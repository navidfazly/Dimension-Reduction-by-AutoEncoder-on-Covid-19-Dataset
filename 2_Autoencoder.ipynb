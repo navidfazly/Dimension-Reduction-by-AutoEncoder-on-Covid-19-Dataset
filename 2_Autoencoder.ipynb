{
  "cells": [
    {
      "cell_type": "markdown",
      "source": [
        "<img src='http://www-scf.usc.edu/~ghasemig/images/sharif.png' alt=\"SUT logo\" width=200 height=200 align=left class=\"saturate\" >\n",
        "\n",
        "<br>\n",
        "<font face=\"Times New Roman\">\n",
        "<div dir=ltr align=center>\n",
        "<font color=0F5298 size=7>\n",
        "    Introduction to Machine Learning <br>\n",
        "<font color=2565AE size=5>\n",
        "    Computer Engineering Department <br>\n",
        "    Fall 2022<br>\n",
        "<font color=3C99D size=5>\n",
        "    Homework 3: Practical - Neural Network <br>\n",
        "<font color=696880 size=4>\n",
        "    Alireza Belal\n",
        "    \n",
        "    \n",
        "____\n"
      ],
      "metadata": {
        "id": "5L9aTdI0e7H0"
      }
    },
    {
      "cell_type": "markdown",
      "source": [
        "### Full Name : \n",
        "### Student Number : \n",
        "___"
      ],
      "metadata": {
        "id": "kw09BeIDe7H8"
      }
    },
    {
      "cell_type": "markdown",
      "source": [
        "# Setup"
      ],
      "metadata": {
        "id": "v1bNkxfJe7H9"
      }
    },
    {
      "cell_type": "markdown",
      "source": [
        "# 0. Preparation\n",
        "\n",
        "In this part, you will use a dataset related to COVID-19. Load your dataset using pandas."
      ],
      "metadata": {
        "id": "WTC5Q22le7H9"
      }
    },
    {
      "cell_type": "code",
      "execution_count": 28,
      "source": [
        "import pandas as pd\n",
        "from sklearn.preprocessing import LabelEncoder\n",
        "covid_data = pd.read_csv('Covid Dataset.csv')\n",
        "categorical_feature_mask = covid_data.dtypes == object\n",
        "cateforical_cols = covid_data.columns[categorical_feature_mask].tolist()\n",
        "le = LabelEncoder()\n",
        "covid_data[cateforical_cols] = covid_data[cateforical_cols].apply(lambda col: le.fit_transform(col))\n",
        "covid_data = covid_data.astype(float)\n",
        "print(covid_data.shape)\n",
        "\n",
        "# Extract X and Y from the dataset\n",
        "X_total = covid_data.iloc[:, 0:20].values\n",
        "y_total = covid_data.iloc[:,20].values\n",
        "\n",
        "\n",
        "#SPLIT THE DATA INTO TRAIN AND TEST DATA \n",
        "from sklearn.model_selection import train_test_split\n",
        "X_train, X_test, y_train, y_test = train_test_split(X_total, y_total, test_size = 0.3, random_state = 0)"
      ],
      "outputs": [
        {
          "output_type": "stream",
          "name": "stdout",
          "text": [
            "(5434, 21)\n"
          ]
        }
      ],
      "metadata": {
        "colab": {
          "base_uri": "https://localhost:8080/"
        },
        "id": "hGnPeULhe7H9",
        "outputId": "76ff5f8f-fc7c-4cb1-856f-478276b4969d"
      }
    },
    {
      "cell_type": "markdown",
      "source": [
        "---------------"
      ],
      "metadata": {
        "id": "A6Ur3rDce7H_"
      }
    },
    {
      "cell_type": "markdown",
      "source": [
        "# 1. DNN as nonlinear dimensionality reduction method (50 Points)\n",
        "\n",
        "Autoencoder is an unsupervised artificial neural network that compresses the data to lower dimension and then reconstructs the input back. Autoencoder finds the representation of the data in a lower dimension by focusing more on the important features getting rid of noise and redundancy. It's based on Encoder-Decoder architecture, where encoder encodes the high-dimensional data to lower-dimension and decoder takes the lower-dimensional data and tries to reconstruct the original high-dimensional data.\n",
        "\n",
        "![picture](https://drive.google.com/uc?id=1RTZwx4xL6zFV_nUENBgWlFKLKldPoyI-)\n",
        "\n",
        "In the above Diagram, X is the input data, z is the lower-dimension representation of input X and X’ is the reconstructed input data. The mapping of higher to lower dimensions can be linear or non-linear depending on the choice of the activation function.\n",
        "\n",
        "In this part you're gonna implement an autoencoder using Keras framework as dimensionally reduction module as explained [here](https://blog.keras.io/building-autoencoders-in-keras.html).\n",
        "(It would be ok to use PyTorch as well.)\n",
        "Reduce the dimension of the data to 2 dimensions and visualize the low-dimensional data."
      ],
      "metadata": {
        "id": "-BbSb8Nde7IA"
      }
    },
    {
      "cell_type": "code",
      "execution_count": 29,
      "source": [
        "# import necessary libraries\n",
        "import keras\n",
        "from keras import layers\n",
        "from keras import Model\n",
        "from keras.layers import Dense\n",
        "\n",
        "import numpy as np\n",
        "import matplotlib.pyplot as plt\n"
      ],
      "outputs": [],
      "metadata": {
        "id": "moGEgpV999cl"
      }
    },
    {
      "cell_type": "code",
      "execution_count": 30,
      "source": [
        "# define layers (25 Points)\n",
        "\n",
        "encoding_dim = 20 \n",
        "latent_dim = 2\n",
        "\n",
        "encoder = keras.Sequential([\n",
        "    Dense(encoding_dim, activation='relu', input_shape=(encoding_dim,)),\n",
        "    Dense(14, activation='relu'),\n",
        "    Dense(8, activation='relu'),\n",
        "    Dense(5, activation='relu'),\n",
        "    Dense(latent_dim, activation='relu')\n",
        "])\n",
        "\n",
        "decoder = keras.Sequential([\n",
        "    Dense(latent_dim, activation='relu', input_shape=(latent_dim,)),\n",
        "    Dense(5, activation='relu'),\n",
        "    Dense(8, activation='relu'),\n",
        "    Dense(14, activation='relu'),\n",
        "    Dense(encoding_dim, activation=\"sigmoid\")\n",
        "])\n",
        "autoencoder = Model(inputs=encoder.input, outputs=decoder(encoder.output))"
      ],
      "outputs": [],
      "metadata": {
        "id": "V418WQ9_e7IB"
      }
    },
    {
      "cell_type": "code",
      "execution_count": 31,
      "source": [
        "# train the model and reduce the dimension of the data (15 Points)\n",
        "autoencoder.compile(loss='mse', optimizer='adam')\n",
        "model_history = autoencoder.fit(X_train, X_train, epochs=500, batch_size=128, verbose=0)\n",
        "\n",
        "plt.plot(model_history.history[\"loss\"])\n",
        "plt.title(\"Loss vs. Epoch\")\n",
        "plt.ylabel(\"Loss\")\n",
        "plt.xlabel(\"Epoch\")\n",
        "plt.grid(True)"
      ],
      "outputs": [
        {
          "output_type": "display_data",
          "data": {
            "text/plain": [
              "<Figure size 432x288 with 1 Axes>"
            ],
            "image/png": "[encoded data removed]"
          },
          "metadata": {
            "needs_background": "light"
          }
        }
      ],
      "metadata": {
        "colab": {
          "base_uri": "https://localhost:8080/",
          "height": 295
        },
        "id": "gfwBztSSe7IC",
        "outputId": "1b81df2d-c08b-4346-f69d-6557782e5344"
      }
    },
    {
      "cell_type": "code",
      "execution_count": 32,
      "source": [
        "# Plot the encoded data (10 Points)\n",
        "\n",
        "encoded_X_train = encoder(X_train)\n",
        "plt.figure(figsize=(6,6))\n",
        "plt.scatter(encoded_X_train[:, 0], encoded_X_train[:, 1], alpha=.8)\n",
        "plt.xlabel('Latent Dimension 1')\n",
        "plt.ylabel('Latent Dimension 2');"
      ],
      "outputs": [
        {
          "output_type": "display_data",
          "data": {
            "text/plain": [
              "<Figure size 432x432 with 1 Axes>"
            ],
            "image/png": "[encoded data removed]"
          },
          "metadata": {
            "needs_background": "light"
          }
        }
      ],
      "metadata": {
        "colab": {
          "base_uri": "https://localhost:8080/",
          "height": 388
        },
        "id": "j3uNhl_se7IC",
        "outputId": "4589fdf7-dcf9-4796-b07d-0c697550e552"
      }
    }
  ],
  "metadata": {
    "colab": {
      "provenance": []
    },
    "kernelspec": {
      "name": "python3",
      "display_name": "Python 3.9.6 64-bit"
    },
    "language_info": {
      "codemirror_mode": {
        "name": "ipython",
        "version": 3
      },
      "file_extension": ".py",
      "mimetype": "text/x-python",
      "name": "python",
      "nbconvert_exporter": "python",
      "pygments_lexer": "ipython3",
      "version": "3.9.6"
    },
    "vscode": {
      "interpreter": {
        "hash": "81794d4967e6c3204c66dcd87b604927b115b27c00565d3d43f05ba2f3a2cb0d"
      }
    },
    "interpreter": {
      "hash": "0ec66bbe782f389edb8615b95e71913b48001538f92dc4d53a6c71a0eff16772"
    },
    "accelerator": "GPU",
    "gpuClass": "standard"
  },
  "nbformat": 4,
  "nbformat_minor": 0
}